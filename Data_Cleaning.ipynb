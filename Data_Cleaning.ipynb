{
  "nbformat": 4,
  "nbformat_minor": 0,
  "metadata": {
    "colab": {
      "name": "Data Cleaning",
      "provenance": [],
      "collapsed_sections": [],
      "authorship_tag": "ABX9TyPf+M3nA/OtV0g3Z9yKX38s",
      "include_colab_link": true
    },
    "kernelspec": {
      "name": "python3",
      "display_name": "Python 3"
    },
    "language_info": {
      "name": "python"
    }
  },
  "cells": [
    {
      "cell_type": "markdown",
      "metadata": {
        "id": "view-in-github",
        "colab_type": "text"
      },
      "source": [
        "<a href=\"https://colab.research.google.com/github/shraddhaagarwal10/Data-Cleaning/blob/main/Data_Cleaning.ipynb\" target=\"_parent\"><img src=\"https://colab.research.google.com/assets/colab-badge.svg\" alt=\"Open In Colab\"/></a>"
      ]
    },
    {
      "cell_type": "markdown",
      "metadata": {
        "id": "3kx2XdJIMgRO"
      },
      "source": [
        "# **Resolving Gene Data Anamoly (Filling the missing values)**"
      ]
    },
    {
      "cell_type": "markdown",
      "metadata": {
        "id": "-qg8-vnQNFFa"
      },
      "source": [
        "Case 1: \n",
        "If a gene has a missing value for all three replicates of any time point in the dataset, remove the gene completely from the dataset.\n",
        "\n",
        "Case 2:\n",
        "If a gene has a missing value for one of the three replicates of any time point, fill it with the mean of the values for the other two replicates.\n",
        "\n",
        "Case 3:\n",
        "If a gene has a missing value for two of the three replicates of any time point, fill both the missing values with the value of the third non-missing replicate at that time point."
      ]
    },
    {
      "cell_type": "markdown",
      "metadata": {
        "id": "eJPycgnmVW3d"
      },
      "source": [
        "## Importing Libraries"
      ]
    },
    {
      "cell_type": "code",
      "metadata": {
        "id": "h8ZUrj1UVV0f"
      },
      "source": [
        "import pandas as pd\n",
        "import numpy as np"
      ],
      "execution_count": 1,
      "outputs": []
    },
    {
      "cell_type": "markdown",
      "metadata": {
        "id": "m9Te4a1fyX1c"
      },
      "source": [
        "## Reading CSV file haiving dataset"
      ]
    },
    {
      "cell_type": "code",
      "metadata": {
        "id": "PUE_qgINVeAK"
      },
      "source": [
        "gene=pd.read_csv(\"gene_data_anomaly.csv\")"
      ],
      "execution_count": 2,
      "outputs": []
    },
    {
      "cell_type": "code",
      "metadata": {
        "colab": {
          "base_uri": "https://localhost:8080/"
        },
        "id": "6joyZKCcqenr",
        "outputId": "5eb3f355-d159-4a82-d454-d985fb7756d3"
      },
      "source": [
        "gene.keys()"
      ],
      "execution_count": 3,
      "outputs": [
        {
          "output_type": "execute_result",
          "data": {
            "text/plain": [
              "Index(['symbol', 'S1', 'S2', 'S3', 'S4', 'S5', 'S6', 'S7', 'S8', 'S9', 'S10',\n",
              "       'S11', 'S12', 'S13', 'S14', 'S15', 'S16', 'S17', 'S18', 'S19', 'S20',\n",
              "       'S21', 'S22', 'S23', 'S24', 'S25', 'S26', 'S27', 'S28', 'S29', 'S30'],\n",
              "      dtype='object')"
            ]
          },
          "metadata": {
            "tags": []
          },
          "execution_count": 3
        }
      ]
    },
    {
      "cell_type": "markdown",
      "metadata": {
        "id": "FEklbb-Wzaqy"
      },
      "source": [
        "## Deleting the 'Symbol' Column"
      ]
    },
    {
      "cell_type": "code",
      "metadata": {
        "id": "YVOX5SkuVs7y"
      },
      "source": [
        "g=gene.values\n",
        "ng=np.delete(g, 0, 1)"
      ],
      "execution_count": 4,
      "outputs": []
    },
    {
      "cell_type": "markdown",
      "metadata": {
        "id": "5xccxMSqzFrf"
      },
      "source": [
        "## Running Loop to Fill the Missing Values"
      ]
    },
    {
      "cell_type": "code",
      "metadata": {
        "id": "j7C0BmjbV05H"
      },
      "source": [
        "drop=[]\n",
        "d=0\n",
        "\n",
        "for i in ng:\n",
        "    for j in range(10):\n",
        "        if (np.isnan(i[3*j])) and (np.isnan(i[3*j + 1])) and (np.isnan(i[3*j +2])):\n",
        "            drop.append(str(d))\n",
        "        elif (np.isnan(i[3*j])) and (np.isnan(i[3*j + 1])):\n",
        "            i[3*j] = i[3*j + 2]\n",
        "            i[3*j + 1] = i[3*j + 2]\n",
        "        elif (np.isnan(i[3*j + 1])) and (np.isnan(i[3*j + 2])):\n",
        "            i[3*j + 1] = i[3*j]\n",
        "            i[3*j + 2] = i[3*j]\n",
        "        elif (np.isnan(i[3*j])) and (np.isnan(i[3*j + 2])):\n",
        "            i[3*j] = i[3*j + 1]\n",
        "            i[3*j + 2] = i[3*j + 1]\n",
        "        elif (np.isnan(i[3*j])):\n",
        "            i[3*j] = ((i[3*j + 1] + i[3*j + 2]))/2\n",
        "        elif (np.isnan(i[3*j + 1])):\n",
        "            i[3*j + 1] = ((i[3*j] + i[3*j + 2]))/2\n",
        "        elif (np.isnan(i[3*j + 2])):\n",
        "            i[3*j + 2] = ((i[3*j] + i[3*j + 1]))/2\n",
        "    d+=1"
      ],
      "execution_count": 5,
      "outputs": []
    },
    {
      "cell_type": "code",
      "metadata": {
        "id": "e0uQTmX1iiD3"
      },
      "source": [
        "a=[int(i) for i in drop]\n",
        "g=np.delete(ng, a, 0)"
      ],
      "execution_count": 6,
      "outputs": []
    },
    {
      "cell_type": "code",
      "metadata": {
        "colab": {
          "base_uri": "https://localhost:8080/"
        },
        "id": "GUf-z3uSy-Mt",
        "outputId": "32e77398-e8af-47a0-b4d3-3d2752df25d1"
      },
      "source": [
        "s=np.array((gene['symbol']))\n",
        "s"
      ],
      "execution_count": 7,
      "outputs": [
        {
          "output_type": "execute_result",
          "data": {
            "text/plain": [
              "array(['Zzz3', 'Zzef1', 'Zyx', ..., 'Tcf20', 'Tcf19', 'Tcf15'],\n",
              "      dtype=object)"
            ]
          },
          "metadata": {
            "tags": []
          },
          "execution_count": 7
        }
      ]
    },
    {
      "cell_type": "code",
      "metadata": {
        "id": "TmvbcYHfn00j"
      },
      "source": [
        "sym=np.delete(s, a, 0)\n",
        "sym=pd.DataFrame(sym, columns=['Symbol'])"
      ],
      "execution_count": 8,
      "outputs": []
    },
    {
      "cell_type": "code",
      "metadata": {
        "id": "H-DwOsblpgXk"
      },
      "source": [
        "new_gene=pd.DataFrame(g , columns=['S1', 'S2', 'S3', 'S4', 'S5', 'S6', 'S7', 'S8', 'S9', 'S10',\n",
        "       'S11', 'S12', 'S13', 'S14', 'S15', 'S16', 'S17', 'S18', 'S19', 'S20',\n",
        "       'S21', 'S22', 'S23', 'S24', 'S25', 'S26', 'S27', 'S28', 'S29', 'S30'])"
      ],
      "execution_count": 9,
      "outputs": []
    },
    {
      "cell_type": "markdown",
      "metadata": {
        "id": "4VuodhhszlxX"
      },
      "source": [
        "## Concating the 'Symbol' Column"
      ]
    },
    {
      "cell_type": "code",
      "metadata": {
        "id": "QudghZErZ-72"
      },
      "source": [
        "new_gene=pd.concat([sym, new_gene], axis=1)"
      ],
      "execution_count": 10,
      "outputs": []
    },
    {
      "cell_type": "markdown",
      "metadata": {
        "id": "Yu2lEbYoztoz"
      },
      "source": [
        "## Creating a new CSV file with filled missing values"
      ]
    },
    {
      "cell_type": "code",
      "metadata": {
        "id": "3xqHZ2pi2ma0"
      },
      "source": [
        "new_gene.to_csv(\"gene_data_resolved.csv\")"
      ],
      "execution_count": 11,
      "outputs": []
    }
  ]
}